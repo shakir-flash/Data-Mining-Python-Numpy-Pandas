{
  "cells": [
    {
      "cell_type": "markdown",
      "source": [
        "# Data Science Tools and Ecosystem"
      ],
      "metadata": {
        "id": "3ApdFzBTa7Ti"
      }
    },
    {
      "cell_type": "markdown",
      "metadata": {
        "id": "KFCP9BuLaDI0"
      },
      "source": [
        "### Introduction\n",
        "In this notebook, the various Data Science tools and ecosystems are summarized."
      ]
    },
    {
      "cell_type": "markdown",
      "source": [
        "### Data Science Languages\n",
        "Some of the most popular data science tools used by Data Scientists are:\n",
        "\n",
        "- **Python**: Versatile and widely used for data analysis, machine learning, and scientific computing.\n",
        "- **R**: Specialized for statistical analysis and visualization.\n",
        "- **SQL**: Used for managing and querying databases.\n",
        "- **Julia**: Known for high-performance numerical and scientific computing.\n",
        "- **Scala**: Preferred for scalable data processing with Apache Spark.\n"
      ],
      "metadata": {
        "id": "sjwhczMMbQpS"
      }
    },
    {
      "cell_type": "markdown",
      "source": [
        "### Data Science Libraries\n",
        "Some of the commonly used libraries are:\n",
        "\n",
        "- **Python**:\n",
        "  - **NumPy**: Numerical computing library.\n",
        "  - **Pandas**: Data manipulation and analysis.\n",
        "  - **Matplotlib**: 2D plotting library.\n",
        "  - **Seaborn**: Statistical data visualization.\n",
        "  - **Scikit-learn**: Machine learning library.\n",
        "  - **TensorFlow / PyTorch**: Deep learning frameworks.\n",
        "\n",
        "- **R**:\n",
        "  - **dplyr**: Data manipulation.\n",
        "  - **ggplot2**: Data visualization.\n",
        "  - **caret**: Machine learning.\n",
        "  - **tidyr**: Data tidying.\n",
        "  - **lattice**: Multi-panel data visualization.\n",
        "\n",
        "- **SQL**:\n",
        "  - **SQLite**: Embedded relational database management system.\n",
        "  - **MySQL / PostgreSQL**: Relational database management systems.\n",
        "\n",
        "- **Julia**:\n",
        "  - **JuliaDB**: DataFrames and data manipulation.\n",
        "  - **Flux**: Machine learning.\n",
        "  - **Plots.jl**: Data visualization.\n"
      ],
      "metadata": {
        "id": "-Nh-wJVnbV35"
      }
    },
    {
      "cell_type": "markdown",
      "source": [
        "| **Data Science Tools** |\n",
        "|------------------------|\n",
        "| Anaconda               |\n",
        "| Jupyter Notebooks      |\n",
        "| R Studio               |\n",
        "| Spyder                 |\n",
        "| Zeppelin               |\n"
      ],
      "metadata": {
        "id": "jjL0Mma3bc8a"
      }
    },
    {
      "cell_type": "markdown",
      "source": [
        "### Arithmetic Expression Examples\n",
        "\n",
        "Below are a few arithmatic operations using Python:\n",
        "\n",
        "Addition: Adding two numbers.\n",
        "2 + 3  # Result: 5\n",
        "\n",
        "Subtraction: Subtracting one number from another.\n",
        "5 - 2  # Result: 3\n",
        "\n",
        "Multiplication: Multiplying two numbers.\n",
        "4 * 6  # Result: 24\n",
        "\n",
        "Division: Dividing one number by another.\n",
        "10 / 2  # Result: 5.0\n",
        "\n",
        "Exponentiation: Raising a number to the power of another.\n",
        "2 ** 3  # Result: 8\n",
        "\n",
        "Modulus: Finding the remainder of division.\n",
        "10 % 3  # Result: 1 (remainder of 10 divided by 3)\n",
        "\n",
        "Code given below:\n"
      ],
      "metadata": {
        "id": "Cl3lwEvObno-"
      }
    },
    {
      "cell_type": "code",
      "execution_count": 2,
      "metadata": {
        "colab": {
          "base_uri": "https://localhost:8080/"
        },
        "id": "oRfZWx19aDI1",
        "outputId": "7e6f5985-cf15-43f2-b667-417248bd0777"
      },
      "outputs": [
        {
          "output_type": "execute_result",
          "data": {
            "text/plain": [
              "4830"
            ]
          },
          "metadata": {},
          "execution_count": 2
        }
      ],
      "source": [
        "# Multiplication and addition in same logic\n",
        "result = (69 * 69) + 69\n",
        "result\n"
      ]
    },
    {
      "cell_type": "code",
      "source": [
        "# Function to convert minutes to hours\n",
        "def minutes_to_hours(minutes):\n",
        "    hours = minutes / 60\n",
        "    return hours\n",
        "\n",
        "# Example conversion\n",
        "minutes = 150\n",
        "hours = minutes_to_hours(minutes)\n",
        "print(f\"{minutes} minutes is equal to {hours} hours.\")\n"
      ],
      "metadata": {
        "colab": {
          "base_uri": "https://localhost:8080/"
        },
        "id": "EWhUa_jRb2xn",
        "outputId": "dfe0c949-ecaf-4c9c-b339-51c81fa4b720"
      },
      "execution_count": null,
      "outputs": [
        {
          "output_type": "stream",
          "name": "stdout",
          "text": [
            "150 minutes is equal to 2.5 hours.\n"
          ]
        }
      ]
    },
    {
      "cell_type": "markdown",
      "source": [
        "### **Objectives**\n",
        "\n",
        "- Understand basic arithmetic operations in Python.\n",
        "- Learn how to use GitHub for version control.\n",
        "- Explore data science languages and libraries.\n",
        "- Perform unit conversions in Python.\n",
        "- Develop skills in writing markdown for documentation.\n"
      ],
      "metadata": {
        "id": "ddsFu-D4b7jH"
      }
    },
    {
      "cell_type": "markdown",
      "source": [
        "## Author\n",
        "\n",
        "Shakir Ahmed\n"
      ],
      "metadata": {
        "id": "lhcuK7Mfb9ax"
      }
    }
  ],
  "metadata": {
    "kernelspec": {
      "display_name": "Python 3",
      "language": "python",
      "name": "python3"
    },
    "language_info": {
      "codemirror_mode": {
        "name": "ipython",
        "version": 3
      },
      "file_extension": ".py",
      "mimetype": "text/x-python",
      "name": "python",
      "nbconvert_exporter": "python",
      "pygments_lexer": "ipython3",
      "version": "3.8.3"
    },
    "colab": {
      "provenance": []
    }
  },
  "nbformat": 4,
  "nbformat_minor": 0
}