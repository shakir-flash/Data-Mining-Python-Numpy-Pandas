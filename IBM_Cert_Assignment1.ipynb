{
  "cells": [
    {
      "cell_type": "code",
      "source": [
        "!pip install nbformat==5.10.4 nbconvert==7.16.1\n",
        "import nbformat\n",
        "import nbconvert\n",
        "\n",
        "print(\"nbformat version:\", nbformat.__version__)\n",
        "print(\"nbconvert version:\", nbconvert.__version__)"
      ],
      "metadata": {
        "colab": {
          "base_uri": "https://localhost:8080/"
        },
        "id": "Buq12jLuczTt",
        "outputId": "da31b968-dff3-4af9-e8c5-7c5bdbb227bc"
      },
      "execution_count": 4,
      "outputs": [
        {
          "output_type": "stream",
          "name": "stdout",
          "text": [
            "Requirement already satisfied: nbformat==5.10.4 in /usr/local/lib/python3.10/dist-packages (5.10.4)\n",
            "Requirement already satisfied: nbconvert==7.16.1 in /usr/local/lib/python3.10/dist-packages (7.16.1)\n",
            "Requirement already satisfied: fastjsonschema>=2.15 in /usr/local/lib/python3.10/dist-packages (from nbformat==5.10.4) (2.19.1)\n",
            "Requirement already satisfied: jsonschema>=2.6 in /usr/local/lib/python3.10/dist-packages (from nbformat==5.10.4) (4.19.2)\n",
            "Requirement already satisfied: jupyter-core!=5.0.*,>=4.12 in /usr/local/lib/python3.10/dist-packages (from nbformat==5.10.4) (5.7.2)\n",
            "Requirement already satisfied: traitlets>=5.1 in /usr/local/lib/python3.10/dist-packages (from nbformat==5.10.4) (5.7.1)\n",
            "Requirement already satisfied: beautifulsoup4 in /usr/local/lib/python3.10/dist-packages (from nbconvert==7.16.1) (4.12.3)\n",
            "Requirement already satisfied: bleach!=5.0.0 in /usr/local/lib/python3.10/dist-packages (from nbconvert==7.16.1) (6.1.0)\n",
            "Requirement already satisfied: defusedxml in /usr/local/lib/python3.10/dist-packages (from nbconvert==7.16.1) (0.7.1)\n",
            "Requirement already satisfied: jinja2>=3.0 in /usr/local/lib/python3.10/dist-packages (from nbconvert==7.16.1) (3.1.4)\n",
            "Requirement already satisfied: jupyterlab-pygments in /usr/local/lib/python3.10/dist-packages (from nbconvert==7.16.1) (0.3.0)\n",
            "Requirement already satisfied: markupsafe>=2.0 in /usr/local/lib/python3.10/dist-packages (from nbconvert==7.16.1) (2.1.5)\n",
            "Requirement already satisfied: mistune<4,>=2.0.3 in /usr/local/lib/python3.10/dist-packages (from nbconvert==7.16.1) (3.0.2)\n",
            "Requirement already satisfied: nbclient>=0.5.0 in /usr/local/lib/python3.10/dist-packages (from nbconvert==7.16.1) (0.10.0)\n",
            "Requirement already satisfied: packaging in /usr/local/lib/python3.10/dist-packages (from nbconvert==7.16.1) (24.0)\n",
            "Requirement already satisfied: pandocfilters>=1.4.1 in /usr/local/lib/python3.10/dist-packages (from nbconvert==7.16.1) (1.5.1)\n",
            "Requirement already satisfied: pygments>=2.4.1 in /usr/local/lib/python3.10/dist-packages (from nbconvert==7.16.1) (2.16.1)\n",
            "Requirement already satisfied: tinycss2 in /usr/local/lib/python3.10/dist-packages (from nbconvert==7.16.1) (1.3.0)\n",
            "Requirement already satisfied: six>=1.9.0 in /usr/local/lib/python3.10/dist-packages (from bleach!=5.0.0->nbconvert==7.16.1) (1.16.0)\n",
            "Requirement already satisfied: webencodings in /usr/local/lib/python3.10/dist-packages (from bleach!=5.0.0->nbconvert==7.16.1) (0.5.1)\n",
            "Requirement already satisfied: attrs>=22.2.0 in /usr/local/lib/python3.10/dist-packages (from jsonschema>=2.6->nbformat==5.10.4) (23.2.0)\n",
            "Requirement already satisfied: jsonschema-specifications>=2023.03.6 in /usr/local/lib/python3.10/dist-packages (from jsonschema>=2.6->nbformat==5.10.4) (2023.12.1)\n",
            "Requirement already satisfied: referencing>=0.28.4 in /usr/local/lib/python3.10/dist-packages (from jsonschema>=2.6->nbformat==5.10.4) (0.35.1)\n",
            "Requirement already satisfied: rpds-py>=0.7.1 in /usr/local/lib/python3.10/dist-packages (from jsonschema>=2.6->nbformat==5.10.4) (0.18.1)\n",
            "Requirement already satisfied: platformdirs>=2.5 in /usr/local/lib/python3.10/dist-packages (from jupyter-core!=5.0.*,>=4.12->nbformat==5.10.4) (4.2.1)\n",
            "Requirement already satisfied: jupyter-client>=6.1.12 in /usr/local/lib/python3.10/dist-packages (from nbclient>=0.5.0->nbconvert==7.16.1) (6.1.12)\n",
            "Requirement already satisfied: soupsieve>1.2 in /usr/local/lib/python3.10/dist-packages (from beautifulsoup4->nbconvert==7.16.1) (2.5)\n",
            "Requirement already satisfied: pyzmq>=13 in /usr/local/lib/python3.10/dist-packages (from jupyter-client>=6.1.12->nbclient>=0.5.0->nbconvert==7.16.1) (24.0.1)\n",
            "Requirement already satisfied: python-dateutil>=2.1 in /usr/local/lib/python3.10/dist-packages (from jupyter-client>=6.1.12->nbclient>=0.5.0->nbconvert==7.16.1) (2.8.2)\n",
            "Requirement already satisfied: tornado>=4.1 in /usr/local/lib/python3.10/dist-packages (from jupyter-client>=6.1.12->nbclient>=0.5.0->nbconvert==7.16.1) (6.3.3)\n",
            "nbformat version: 5.10.4\n",
            "nbconvert version: 7.16.1\n"
          ]
        }
      ]
    },
    {
      "cell_type": "markdown",
      "source": [
        "# IBM Certification- Data Science Assignment"
      ],
      "metadata": {
        "id": "3ApdFzBTa7Ti"
      }
    },
    {
      "cell_type": "markdown",
      "metadata": {
        "id": "KFCP9BuLaDI0"
      },
      "source": [
        "### Introduction to Python\n",
        "Python is a versatile, high-level programming language known for its readability and simplicity. It supports multiple paradigms and is widely used in web development, data analysis, artificial intelligence, and more, making it one of the most popular languages for beginners and professionals alike."
      ]
    },
    {
      "cell_type": "markdown",
      "source": [
        "### Data Science Languages\n",
        "\n",
        "- **Python**: Versatile and widely used for data analysis, machine learning, and scientific computing.\n",
        "- **R**: Specialized for statistical analysis and visualization.\n",
        "- **SQL**: Used for managing and querying databases.\n",
        "- **Julia**: Known for high-performance numerical and scientific computing.\n",
        "- **Scala**: Preferred for scalable data processing with Apache Spark.\n"
      ],
      "metadata": {
        "id": "sjwhczMMbQpS"
      }
    },
    {
      "cell_type": "markdown",
      "source": [
        "### Data Science Libraries\n",
        "\n",
        "- **Python**:\n",
        "  - **NumPy**: Numerical computing library.\n",
        "  - **Pandas**: Data manipulation and analysis.\n",
        "  - **Matplotlib**: 2D plotting library.\n",
        "  - **Seaborn**: Statistical data visualization.\n",
        "  - **Scikit-learn**: Machine learning library.\n",
        "  - **TensorFlow / PyTorch**: Deep learning frameworks.\n",
        "\n",
        "- **R**:\n",
        "  - **dplyr**: Data manipulation.\n",
        "  - **ggplot2**: Data visualization.\n",
        "  - **caret**: Machine learning.\n",
        "  - **tidyr**: Data tidying.\n",
        "  - **lattice**: Multi-panel data visualization.\n",
        "\n",
        "- **SQL**:\n",
        "  - **SQLite**: Embedded relational database management system.\n",
        "  - **MySQL / PostgreSQL**: Relational database management systems.\n",
        "\n",
        "- **Julia**:\n",
        "  - **JuliaDB**: DataFrames and data manipulation.\n",
        "  - **Flux**: Machine learning.\n",
        "  - **Plots.jl**: Data visualization.\n"
      ],
      "metadata": {
        "id": "-Nh-wJVnbV35"
      }
    },
    {
      "cell_type": "markdown",
      "source": [
        "| Category          | Tool                  | Description                                     |\n",
        "|-------------------|-----------------------|-------------------------------------------------|\n",
        "| **Languages**     | Python                | Versatile, high-level language for data science.|\n",
        "|                   | R                     | Specialized for statistical analysis and visualization.|\n",
        "|                   | SQL                   | Language for managing and querying databases.   |\n",
        "|                   | Julia                 | High-performance language for numerical computing.|\n",
        "|                   | Scala                 | Preferred for scalable data processing.         |\n",
        "| **Libraries**     | NumPy                 | Numerical computing in Python.                  |\n",
        "|                   | Pandas                | Data manipulation and analysis in Python.       |\n",
        "|                   | Matplotlib            | 2D plotting library in Python.                  |\n",
        "|                   | Scikit-learn          | Machine learning library in Python.             |\n",
        "|                   | TensorFlow / PyTorch  | Deep learning frameworks in Python.             |\n",
        "|                   | dplyr                 | Data manipulation in R.                         |\n",
        "|                   | ggplot2               | Data visualization in R.                        |\n",
        "|                   | caret                 | Machine learning in R.                          |\n",
        "|                   | SQLite                | Embedded database management in SQL.            |\n",
        "|                   | MySQL / PostgreSQL    | Relational database management in SQL.          |\n",
        "|                   | JuliaDB               | DataFrames and data manipulation in Julia.      |\n",
        "|                   | Flux                  | Machine learning in Julia.                      |\n",
        "|                   | Plots.jl              | Data visualization in Julia.                    |\n",
        "| **Tools**         | Jupyter Notebook      | Interactive computing and data visualization.   |\n",
        "|                   | RStudio               | Integrated development environment for R.       |\n",
        "|                   | Apache Spark          | Distributed computing engine.                   |\n",
        "|                   | Tableau               | Data visualization and analytics.               |\n",
        "|                   | KNIME                 | Data analytics and integration platform.        |\n",
        "|                   | Docker                | Containerization platform.                      |\n",
        "|                   | GitHub                | Version control and collaboration platform.     |\n",
        "|                   | Jenkins               | Automation server for CI/CD.                    |\n",
        "|                   | Databricks            | Unified analytics platform based on Apache Spark.|\n"
      ],
      "metadata": {
        "id": "jjL0Mma3bc8a"
      }
    },
    {
      "cell_type": "markdown",
      "source": [
        "### Arithmetic Expression Examples\n",
        "\n",
        "Arithmetic expressions are fundamental in programming and mathematics. They involve basic operations like addition, subtraction, multiplication, division, exponentiation, and modulus. Here are some examples:\n",
        "\n",
        "# Addition: Adding two numbers.\n",
        "2 + 3  # Result: 5\n",
        "\n",
        "# Subtraction: Subtracting one number from another.\n",
        "5 - 2  # Result: 3\n",
        "\n",
        "# Multiplication: Multiplying two numbers.\n",
        "4 * 6  # Result: 24\n",
        "\n",
        "# Division: Dividing one number by another.\n",
        "10 / 2  # Result: 5.0\n",
        "\n",
        "# Exponentiation: Raising a number to the power of another.\n",
        "2 ** 3  # Result: 8\n",
        "\n",
        "# Modulus: Finding the remainder of division.\n",
        "10 % 3  # Result: 1 (remainder of 10 divided by 3)\n"
      ],
      "metadata": {
        "id": "Cl3lwEvObno-"
      }
    },
    {
      "cell_type": "code",
      "execution_count": 1,
      "metadata": {
        "colab": {
          "base_uri": "https://localhost:8080/"
        },
        "id": "oRfZWx19aDI1",
        "outputId": "87fc3a9e-41a3-4e29-b40e-7200d0a2bbe8"
      },
      "outputs": [
        {
          "output_type": "stream",
          "name": "stdout",
          "text": [
            "Multiplication Result: 42\n",
            "Addition Result: 13\n"
          ]
        }
      ],
      "source": [
        "# Multiplying two numbers\n",
        "result_multiplication = 6 * 7\n",
        "print(\"Multiplication Result:\", result_multiplication)\n",
        "\n",
        "# Adding two numbers\n",
        "result_addition = 8 + 5\n",
        "print(\"Addition Result:\", result_addition)\n"
      ]
    },
    {
      "cell_type": "code",
      "source": [
        "# Function to convert minutes to hours\n",
        "def minutes_to_hours(minutes):\n",
        "    hours = minutes / 60\n",
        "    return hours\n",
        "\n",
        "# Example conversion\n",
        "minutes = 150\n",
        "hours = minutes_to_hours(minutes)\n",
        "print(f\"{minutes} minutes is equal to {hours} hours.\")\n"
      ],
      "metadata": {
        "colab": {
          "base_uri": "https://localhost:8080/"
        },
        "id": "EWhUa_jRb2xn",
        "outputId": "dfe0c949-ecaf-4c9c-b339-51c81fa4b720"
      },
      "execution_count": 2,
      "outputs": [
        {
          "output_type": "stream",
          "name": "stdout",
          "text": [
            "150 minutes is equal to 2.5 hours.\n"
          ]
        }
      ]
    },
    {
      "cell_type": "markdown",
      "source": [
        "### Objectives\n",
        "\n",
        "- Understand basic arithmetic operations in Python.\n",
        "- Learn how to use GitHub for version control.\n",
        "- Explore data science languages and libraries.\n",
        "- Perform unit conversions in Python.\n",
        "- Develop skills in writing markdown for documentation.\n"
      ],
      "metadata": {
        "id": "ddsFu-D4b7jH"
      }
    },
    {
      "cell_type": "markdown",
      "source": [
        "### Author\n",
        "\n",
        "Shakir Ahmed\n"
      ],
      "metadata": {
        "id": "lhcuK7Mfb9ax"
      }
    }
  ],
  "metadata": {
    "kernelspec": {
      "display_name": "Python 3",
      "language": "python",
      "name": "python3"
    },
    "language_info": {
      "codemirror_mode": {
        "name": "ipython",
        "version": 3
      },
      "file_extension": ".py",
      "mimetype": "text/x-python",
      "name": "python",
      "nbconvert_exporter": "python",
      "pygments_lexer": "ipython3",
      "version": "3.8.3"
    },
    "colab": {
      "provenance": []
    }
  },
  "nbformat": 4,
  "nbformat_minor": 0
}