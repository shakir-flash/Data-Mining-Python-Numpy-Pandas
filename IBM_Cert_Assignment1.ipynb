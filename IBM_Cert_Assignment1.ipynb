{
  "cells": [
    {
      "cell_type": "markdown",
      "source": [
        "# IBM Certification- Data Science Assignment"
      ],
      "metadata": {
        "id": "3ApdFzBTa7Ti"
      }
    },
    {
      "cell_type": "markdown",
      "metadata": {
        "id": "KFCP9BuLaDI0"
      },
      "source": [
        "### Introduction to Python\n",
        "Python is a versatile, high-level programming language known for its readability and simplicity. It supports multiple paradigms and is widely used in web development, data analysis, artificial intelligence, and more, making it one of the most popular languages for beginners and professionals alike."
      ]
    },
    {
      "cell_type": "markdown",
      "source": [
        "### Data Science Languages\n",
        "\n",
        "- **Python**: Versatile and widely used for data analysis, machine learning, and scientific computing.\n",
        "- **R**: Specialized for statistical analysis and visualization.\n",
        "- **SQL**: Used for managing and querying databases.\n",
        "- **Julia**: Known for high-performance numerical and scientific computing.\n",
        "- **Scala**: Preferred for scalable data processing with Apache Spark.\n"
      ],
      "metadata": {
        "id": "sjwhczMMbQpS"
      }
    },
    {
      "cell_type": "markdown",
      "source": [
        "### Data Science Libraries\n",
        "\n",
        "- **Python**:\n",
        "  - **NumPy**: Numerical computing library.\n",
        "  - **Pandas**: Data manipulation and analysis.\n",
        "  - **Matplotlib**: 2D plotting library.\n",
        "  - **Seaborn**: Statistical data visualization.\n",
        "  - **Scikit-learn**: Machine learning library.\n",
        "  - **TensorFlow / PyTorch**: Deep learning frameworks.\n",
        "\n",
        "- **R**:\n",
        "  - **dplyr**: Data manipulation.\n",
        "  - **ggplot2**: Data visualization.\n",
        "  - **caret**: Machine learning.\n",
        "  - **tidyr**: Data tidying.\n",
        "  - **lattice**: Multi-panel data visualization.\n",
        "\n",
        "- **SQL**:\n",
        "  - **SQLite**: Embedded relational database management system.\n",
        "  - **MySQL / PostgreSQL**: Relational database management systems.\n",
        "\n",
        "- **Julia**:\n",
        "  - **JuliaDB**: DataFrames and data manipulation.\n",
        "  - **Flux**: Machine learning.\n",
        "  - **Plots.jl**: Data visualization.\n"
      ],
      "metadata": {
        "id": "-Nh-wJVnbV35"
      }
    },
    {
      "cell_type": "markdown",
      "source": [
        "| Category          | Tool                  | Description                                     |\n",
        "|-------------------|-----------------------|-------------------------------------------------|\n",
        "| **Languages**     | Python                | Versatile, high-level language for data science.|\n",
        "|                   | R                     | Specialized for statistical analysis and visualization.|\n",
        "|                   | SQL                   | Language for managing and querying databases.   |\n",
        "|                   | Julia                 | High-performance language for numerical computing.|\n",
        "|                   | Scala                 | Preferred for scalable data processing.         |\n",
        "| **Libraries**     | NumPy                 | Numerical computing in Python.                  |\n",
        "|                   | Pandas                | Data manipulation and analysis in Python.       |\n",
        "|                   | Matplotlib            | 2D plotting library in Python.                  |\n",
        "|                   | Scikit-learn          | Machine learning library in Python.             |\n",
        "|                   | TensorFlow / PyTorch  | Deep learning frameworks in Python.             |\n",
        "|                   | dplyr                 | Data manipulation in R.                         |\n",
        "|                   | ggplot2               | Data visualization in R.                        |\n",
        "|                   | caret                 | Machine learning in R.                          |\n",
        "|                   | SQLite                | Embedded database management in SQL.            |\n",
        "|                   | MySQL / PostgreSQL    | Relational database management in SQL.          |\n",
        "|                   | JuliaDB               | DataFrames and data manipulation in Julia.      |\n",
        "|                   | Flux                  | Machine learning in Julia.                      |\n",
        "|                   | Plots.jl              | Data visualization in Julia.                    |\n",
        "| **Tools**         | Jupyter Notebook      | Interactive computing and data visualization.   |\n",
        "|                   | RStudio               | Integrated development environment for R.       |\n",
        "|                   | Apache Spark          | Distributed computing engine.                   |\n",
        "|                   | Tableau               | Data visualization and analytics.               |\n",
        "|                   | KNIME                 | Data analytics and integration platform.        |\n",
        "|                   | Docker                | Containerization platform.                      |\n",
        "|                   | GitHub                | Version control and collaboration platform.     |\n",
        "|                   | Jenkins               | Automation server for CI/CD.                    |\n",
        "|                   | Databricks            | Unified analytics platform based on Apache Spark.|\n"
      ],
      "metadata": {
        "id": "jjL0Mma3bc8a"
      }
    },
    {
      "cell_type": "markdown",
      "source": [
        "### Arithmetic Expression Examples\n",
        "\n",
        "Arithmetic expressions are fundamental in programming and mathematics. They involve basic operations like addition, subtraction, multiplication, division, exponentiation, and modulus. Here are some examples:\n",
        "\n",
        "# Addition: Adding two numbers.\n",
        "2 + 3  # Result: 5\n",
        "\n",
        "# Subtraction: Subtracting one number from another.\n",
        "5 - 2  # Result: 3\n",
        "\n",
        "# Multiplication: Multiplying two numbers.\n",
        "4 * 6  # Result: 24\n",
        "\n",
        "# Division: Dividing one number by another.\n",
        "10 / 2  # Result: 5.0\n",
        "\n",
        "# Exponentiation: Raising a number to the power of another.\n",
        "2 ** 3  # Result: 8\n",
        "\n",
        "# Modulus: Finding the remainder of division.\n",
        "10 % 3  # Result: 1 (remainder of 10 divided by 3)\n"
      ],
      "metadata": {
        "id": "Cl3lwEvObno-"
      }
    },
    {
      "cell_type": "code",
      "execution_count": 1,
      "metadata": {
        "colab": {
          "base_uri": "https://localhost:8080/"
        },
        "id": "oRfZWx19aDI1",
        "outputId": "87fc3a9e-41a3-4e29-b40e-7200d0a2bbe8"
      },
      "outputs": [
        {
          "output_type": "stream",
          "name": "stdout",
          "text": [
            "Multiplication Result: 42\n",
            "Addition Result: 13\n"
          ]
        }
      ],
      "source": [
        "# Multiplying two numbers\n",
        "result_multiplication = 6 * 7\n",
        "print(\"Multiplication Result:\", result_multiplication)\n",
        "\n",
        "# Adding two numbers\n",
        "result_addition = 8 + 5\n",
        "print(\"Addition Result:\", result_addition)\n"
      ]
    },
    {
      "cell_type": "code",
      "source": [
        "# Function to convert minutes to hours\n",
        "def minutes_to_hours(minutes):\n",
        "    hours = minutes / 60\n",
        "    return hours\n",
        "\n",
        "# Example conversion\n",
        "minutes = 150\n",
        "hours = minutes_to_hours(minutes)\n",
        "print(f\"{minutes} minutes is equal to {hours} hours.\")\n"
      ],
      "metadata": {
        "colab": {
          "base_uri": "https://localhost:8080/"
        },
        "id": "EWhUa_jRb2xn",
        "outputId": "dfe0c949-ecaf-4c9c-b339-51c81fa4b720"
      },
      "execution_count": 2,
      "outputs": [
        {
          "output_type": "stream",
          "name": "stdout",
          "text": [
            "150 minutes is equal to 2.5 hours.\n"
          ]
        }
      ]
    },
    {
      "cell_type": "markdown",
      "source": [
        "### Objectives\n",
        "\n",
        "- Understand basic arithmetic operations in Python.\n",
        "- Learn how to use GitHub for version control.\n",
        "- Explore data science languages and libraries.\n",
        "- Perform unit conversions in Python.\n",
        "- Develop skills in writing markdown for documentation.\n"
      ],
      "metadata": {
        "id": "ddsFu-D4b7jH"
      }
    },
    {
      "cell_type": "markdown",
      "source": [
        "### Author\n",
        "\n",
        "Shakir Ahmed\n"
      ],
      "metadata": {
        "id": "lhcuK7Mfb9ax"
      }
    }
  ],
  "metadata": {
    "kernelspec": {
      "display_name": "Python 3",
      "language": "python",
      "name": "python3"
    },
    "language_info": {
      "codemirror_mode": {
        "name": "ipython",
        "version": 3
      },
      "file_extension": ".py",
      "mimetype": "text/x-python",
      "name": "python",
      "nbconvert_exporter": "python",
      "pygments_lexer": "ipython3",
      "version": "3.8.3"
    },
    "colab": {
      "provenance": []
    }
  },
  "nbformat": 4,
  "nbformat_minor": 0
}